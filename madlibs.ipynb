{
 "cells": [
  {
   "cell_type": "code",
   "execution_count": 2,
   "metadata": {},
   "outputs": [
    {
     "name": "stdout",
     "output_type": "stream",
     "text": [
      "Once upon a time there were two friends, ind the lovely deer and kir the silly moose. They were very close until one day lovelyind got into a fight with sillykir over their favourite disgustingdeckchair. ind even called kir a[11][12]To solve this disagreement, they agreed to angrilysprinted and lived lovingly ever after\n"
     ]
    }
   ],
   "source": [
    "a = ['x']\n",
    "for i in range (0,2):\n",
    "    a.append(input(\"Please enter a name\"))\n",
    "    a.append(input(\"Please enter an adjective\"))\n",
    "    a.append(input(\"Please enter an animal\"))\n",
    "\n",
    "a.append(input(\"Please enter an adjective\"))\n",
    "a.append(input(\"Please enter a noun\"))\n",
    "a.append(input(\"Please enter an adverb\"))\n",
    "a.append(input(\"Please enter a verb\"))\n",
    "a.append(input(\"Please enter a positive adverb\"))\n",
    "a.append(input(\"Please enter an insulting adjective\"))\n",
    "a.append(input(\"Please enter an insulting noun\"))\n",
    "\n",
    "print(f\"Once upon a time there were two friends, {a[1]} the {a[2]} {a[3]} and {a[4]} the {a[5]} {a[6]}. They were very close until one day {a[2]} {a[1]} got into a fight with {a[5] }{a[4]} over their favourite {a[7]} {a[8]}. {a[1]} even called {a[4]} a {a[11]} {a[12]}! To solve this disagreement, they agreed to {a[9]} {a[10]} and lived {a[11]} ever after\")\n"
   ]
  },
  {
   "attachments": {},
   "cell_type": "markdown",
   "metadata": {},
   "source": [
    "\"Once upon a time there were two friends, {a[1]} the {a[2]}{a[3]} and {a[4]} the {a[5]}{a[6]}. They were very close until one day {a[2]}{a[1]} got into a fight with {a[5]}{a[4]} over his favourite {a[6]}{a[7]}. To solve this disagreement, they agreed to {a[8]}{a[9]} and lived {a[10]} ever after"
   ]
  }
 ],
 "metadata": {
  "kernelspec": {
   "display_name": "Python 3",
   "language": "python",
   "name": "python3"
  },
  "language_info": {
   "codemirror_mode": {
    "name": "ipython",
    "version": 3
   },
   "file_extension": ".py",
   "mimetype": "text/x-python",
   "name": "python",
   "nbconvert_exporter": "python",
   "pygments_lexer": "ipython3",
   "version": "3.11.1"
  },
  "orig_nbformat": 4,
  "vscode": {
   "interpreter": {
    "hash": "cc027e6809c907dfa06370255038e891bf88f94b01435d59ee112e97588e3a57"
   }
  }
 },
 "nbformat": 4,
 "nbformat_minor": 2
}
